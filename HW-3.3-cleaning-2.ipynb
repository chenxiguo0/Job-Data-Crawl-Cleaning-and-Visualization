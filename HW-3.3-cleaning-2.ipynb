{
 "cells": [
  {
   "cell_type": "markdown",
   "metadata": {},
   "source": [
    "---\n",
    "format:\n",
    "    html:\n",
    "        embed-resources: true\n",
    "---"
   ]
  },
  {
   "cell_type": "markdown",
   "metadata": {},
   "source": [
    "# Cleaning: Part-2 \n",
    "\n",
    "The goal here is exactly the same as `HW-3.2-cleaning-1.ipynb`, except this time you should repeat the exercise but by leveraging LLM APIs and prompt engineering to stream line the cleaning process. \n",
    "\n",
    "Essentially, your job is to write an LLM wrapper to clean the job descriptions. \n",
    "\n",
    "How you do this is up to you. You can use any LLM API that you want, and you can use any prompt engineering techniques you want. \n",
    "\n",
    "For example, you can wrap around OpenAI's ChatGPT, however this requires that you buy a few credits, e.g. 5 to 10$ (you don't have to if you don't want to, you can use free LLM options as well).\n",
    "\n",
    "Here is an example of how to use OpenAI's API:\n",
    "\n",
    "[https://jfh.georgetown.domains/centralized-lecture-content/content/computer-science/general-concepts/openAI-API-example/notes.html](https://jfh.georgetown.domains/centralized-lecture-content/content/computer-science/general-concepts/openAI-API-example/notes.html)\n",
    "\n",
    "There are also various LLM APIs that you can wrap around to get partial access. Do some googling and find a tool that seems like it will fit your needs.  \n",
    "\n",
    "* [https://ai.google.dev/gemini-api/docs/quickstart?lang=python](https://ai.google.dev/gemini-api/docs/quickstart?lang=python)\n",
    "\n"
   ]
  }
 ],
 "metadata": {
  "kernelspec": {
   "display_name": "Python 3.10.4 ('ANLY590')",
   "language": "python",
   "name": "python3"
  },
  "language_info": {
   "codemirror_mode": {
    "name": "ipython",
    "version": 3
   },
   "file_extension": ".py",
   "mimetype": "text/x-python",
   "name": "python",
   "nbconvert_exporter": "python",
   "pygments_lexer": "ipython3",
   "version": "3.10.14"
  },
  "orig_nbformat": 4,
  "vscode": {
   "interpreter": {
    "hash": "2b6082c1c9eef3a910163f232074f2e179e34ed8469dd2c24c723d1290ad549e"
   }
  }
 },
 "nbformat": 4,
 "nbformat_minor": 2
}
