{
 "cells": [
  {
   "cell_type": "markdown",
   "metadata": {},
   "source": [
    "---\n",
    "format:\n",
    "    html:\n",
    "        embed-resources: true\n",
    "---"
   ]
  },
  {
   "cell_type": "markdown",
   "metadata": {},
   "source": [
    "# Cleaning: Part-1: \n",
    "\n",
    "The goal now is to post process the job descriptions you collected in the Crawl\n",
    "\n",
    "In this section you MUST do it manually using traditional data-science cleaning and parsing skills, i.e. without use of ANY LLM tools or wrappers.\n",
    "\n",
    "The unit of analysis in this case is \"job\" \n",
    "\n",
    "Your job is to write a cleaning script to Parse the Crawl results and create a data-frame which will be saved to `data/processed-jobs-1.csv`, this data-frame will be used for later EDA. \n",
    "\n",
    "\n",
    "You should try to extract as many features as possible, here a possible suggestions. \n",
    "\n",
    "These features can provide a comprehensive overview when analyzing job postings for trends, patterns, and insights.\n",
    "\n",
    "You will almost certainly not be able to extract all of these features, but do your best to make the most detailed data set that you can. You can also ADD more features to this list if they come to mind.\n",
    "\n",
    "- **Job Title**\n",
    "- **Company Name**\n",
    "- **Sector/Industry**\n",
    "- **Location** (City, State, Country)\n",
    "- **Job Type** (Full-time, Part-time, Contract, Internship)\n",
    "- **Salary** (Range or Exact)\n",
    "- **Experience Level** (Entry-level, Mid-level, Senior-level)\n",
    "- **Education Requirements** (Degree, Major, Certifications)\n",
    "- **Skills/Technologies Required** (e.g., Python, SQL, Machine Learning, Cloud)\n",
    "- **Job Responsibilities/Duties**\n",
    "- **Required Years of Experience**\n",
    "- **Benefits** (Health insurance, Retirement plans, Paid time off)\n",
    "- **Remote Work Options** (Remote, Hybrid, On-site)\n",
    "- **Application Deadline**\n",
    "- **Job Posting Date**\n",
    "- **Job Description Length** (Number of words or characters)\n",
    "- **Keywords/Frequency of Terms**\n",
    "- **Certifications Required or Preferred** (e.g., AWS Certified, PMP)\n",
    "- **Team Size** (If mentioned)\n",
    "- **Company Size** (Small, Medium, Large)\n",
    "- **Company Reputation/Ranking** (If available)\n",
    "- **Job Posting Platform** (Where the job was posted, e.g., LinkedIn, Indeed)\n",
    "- **Company Values or Culture** (Diversity, Innovation, Sustainability)\n",
    "- **Visa Sponsorship Availability**\n",
    "- **Interview Process Information** (If mentioned)\n",
    "- **Expected Start Date**\n",
    "- **Job Posting Expiry Date**\n",
    "- **Gender Diversity Language** (If any)\n",
    "- **Working Hours/Shift Type** (Day shift, Night shift, Flexible hours)\n",
    "- **Required Language Skills**\n",
    "- **Job Location Proximity to Major Cities** (If provided)\n",
    "- **Travel Requirements** (Percentage or Frequency)\n",
    "- **Team Collaboration Tools Mentioned** (Slack, Zoom, etc.)\n",
    "- **Reporting Line** (e.g., Reports to Senior Manager)\n",
    "- **Job Benefits Related to Learning & Development** (e.g., Courses, Training)\n",
    "- **Company Stock Options** (If offered)\n",
    "- **Required Soft Skills** (e.g., Communication, Leadership)\n",
    "- **Company Perks** (Gym membership, Free meals, Company car)\n",
    "- **Job Posting ID or Reference Number**\n",
    "\n",
    "\n",
    "While cleaning try to address the following as best you can\n",
    "\n",
    "- **Missing Data**: Identify missing or null values in features like salary, company name, or location.\n",
    "- **Duplicates**: Check for duplicate job listings or job descriptions.\n",
    "- **Inconsistent Formatting**: Ensure consistency in categorical variables (e.g., job titles, location formats).\n",
    "- **Data Type Validation**: Ensure each feature has the appropriate data type (e.g., salary as numeric, dates as datetime).\n",
    "- **Outliers**: Detect outliers in salary, years of experience, or job description length.\n"
   ]
  }
 ],
 "metadata": {
  "kernelspec": {
   "display_name": "Python 3.10.4 ('ANLY590')",
   "language": "python",
   "name": "python3"
  },
  "language_info": {
   "codemirror_mode": {
    "name": "ipython",
    "version": 3
   },
   "file_extension": ".py",
   "mimetype": "text/x-python",
   "name": "python",
   "nbconvert_exporter": "python",
   "pygments_lexer": "ipython3",
   "version": "3.10.14"
  },
  "orig_nbformat": 4,
  "vscode": {
   "interpreter": {
    "hash": "2b6082c1c9eef3a910163f232074f2e179e34ed8469dd2c24c723d1290ad549e"
   }
  }
 },
 "nbformat": 4,
 "nbformat_minor": 2
}
