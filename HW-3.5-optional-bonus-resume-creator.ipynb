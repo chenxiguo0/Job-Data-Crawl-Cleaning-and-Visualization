{
 "cells": [
  {
   "cell_type": "markdown",
   "metadata": {},
   "source": [
    "---\n",
    "format:\n",
    "    html:\n",
    "        embed-resources: true\n",
    "---"
   ]
  },
  {
   "cell_type": "markdown",
   "metadata": {},
   "source": [
    "---\n",
    "format:\n",
    "    html:\n",
    "        embed-resources: true\n",
    "---"
   ]
  },
  {
   "cell_type": "markdown",
   "metadata": {},
   "source": [
    "# Optional Bonus: Resume and cover letter creator \n",
    "\n",
    "This is not required, but will earn you up to +5 bonus points of extra credit. \n",
    "\n",
    "Using a combination of an LLM API wrapper and Quarto, write a pipeline that will create a resume PDF (or HTML), and a cover letter, for each of the given job descriptions. \n",
    "\n",
    "If you are doing this, for privacy reasons, you MUST do it for a fake \"Jane-doe\" (e.g. fake education, fake experience, etc.). \n",
    "\n",
    "Here is something to get you started, it is partially complete and quite hacky.\n",
    "\n",
    "https://jfh.georgetown.domains/centralized-lecture-content/content/general-resources/share/resume-tool/resume-tool%202.zip"
   ]
  }
 ],
 "metadata": {
  "kernelspec": {
   "display_name": "Python 3.10.4 ('ANLY590')",
   "language": "python",
   "name": "python3"
  },
  "language_info": {
   "codemirror_mode": {
    "name": "ipython",
    "version": 3
   },
   "file_extension": ".py",
   "mimetype": "text/x-python",
   "name": "python",
   "nbconvert_exporter": "python",
   "pygments_lexer": "ipython3",
   "version": "3.10.14"
  },
  "orig_nbformat": 4,
  "vscode": {
   "interpreter": {
    "hash": "2b6082c1c9eef3a910163f232074f2e179e34ed8469dd2c24c723d1290ad549e"
   }
  }
 },
 "nbformat": 4,
 "nbformat_minor": 2
}
